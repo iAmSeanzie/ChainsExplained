{
 "cells": [
  {
   "cell_type": "code",
   "execution_count": 181,
   "id": "77c8c970-3823-4bc1-9aba-ffc789790387",
   "metadata": {},
   "outputs": [],
   "source": [
    "import pandas as pd\n",
    "import numpy as np\n",
    "from random import randint"
   ]
  },
  {
   "cell_type": "code",
   "execution_count": 182,
   "id": "2a126242-097f-4296-811d-3037aa15dab7",
   "metadata": {},
   "outputs": [],
   "source": [
    "def first_to_100(df):\n",
    "    port = 0\n",
    "    out = 0\n",
    "    for idx,name in enumerate(df['Format'].value_counts().index.tolist()):\n",
    "        if idx == 0:\n",
    "            # print('Name: ', name,'\\tCounts: ', df['Format'].value_counts()[idx])\n",
    "            if name == 'Outstanding':\n",
    "                out = out + 1\n",
    "            else:\n",
    "                port = port + 1\n",
    "    return[out, port]"
   ]
  },
  {
   "cell_type": "code",
   "execution_count": 183,
   "id": "298ee3a6-082c-4e37-b1d9-dee9deb9a736",
   "metadata": {},
   "outputs": [
    {
     "name": "stdout",
     "output_type": "stream",
     "text": [
      "Congratulations, ***Portfolio*** is your winner!!\n",
      "Outstanding Score: 91\n",
      "Portfolio Score: 100\n"
     ]
    }
   ],
   "source": [
    "out = 0\n",
    "port = 0\n",
    "update=[]\n",
    "\n",
    "while out < 100 and port < 100:\n",
    "    choices_df = pd.DataFrame(np.random.randint(1,3,size=(100)), columns=['Random_Choice'])\n",
    "    choices_df['Format'] = np.where(choices_df['Random_Choice']==1, 'Outstanding', 'Portfolio')\n",
    "    update = first_to_100(choices_df)\n",
    "    out = out + update[0]\n",
    "    port = port + update[1]\n",
    "if out == 100:\n",
    "    win = 'Outstanding'\n",
    "else:\n",
    "    win = 'Portfolio'\n",
    "print(f'Congratulations, ***{win}*** is your winner!!\\nOutstanding Score: {out}\\nPortfolio Score: {port}')"
   ]
  },
  {
   "cell_type": "code",
   "execution_count": null,
   "id": "f5f6188a-c2c4-43c6-a879-228de1302c9a",
   "metadata": {},
   "outputs": [],
   "source": []
  },
  {
   "cell_type": "code",
   "execution_count": null,
   "id": "77019208-5bd3-4889-886b-98383abf39fe",
   "metadata": {},
   "outputs": [],
   "source": []
  }
 ],
 "metadata": {
  "kernelspec": {
   "display_name": "Python 3 (ipykernel)",
   "language": "python",
   "name": "python3"
  },
  "language_info": {
   "codemirror_mode": {
    "name": "ipython",
    "version": 3
   },
   "file_extension": ".py",
   "mimetype": "text/x-python",
   "name": "python",
   "nbconvert_exporter": "python",
   "pygments_lexer": "ipython3",
   "version": "3.8.8"
  }
 },
 "nbformat": 4,
 "nbformat_minor": 5
}
